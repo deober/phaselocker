{
 "cells": [
  {
   "cell_type": "code",
   "execution_count": 3,
   "metadata": {},
   "outputs": [],
   "source": [
    "import json \n",
    "import phaselocker as pl\n",
    "import numpy as np \n",
    "from bokeh.io import output_notebook, show\n",
    "import phaselocker.geometry as geom\n",
    "import phaselocker.sampling as mc \n"
   ]
  },
  {
   "cell_type": "code",
   "execution_count": 4,
   "metadata": {},
   "outputs": [],
   "source": [
    "#Load calculated LiAl data\n",
    "with open('data/calculated_configs.json','r') as f:\n",
    "    calc_data = json.load(f)\n",
    "calc_comp = np.array(calc_data['comp'])\n",
    "calc_corr = np.array(calc_data['corr'])\n",
    "calc_ef = np.array(calc_data['formation_energy'])\n",
    "\n",
    "#Load uncalculated data\n",
    "with open(\"data/uncalculated_configs.json\",'r') as f:\n",
    "    uncalc_data = json.load(f)\n",
    "uncalc_comp = np.array(uncalc_data['comp'])\n",
    "uncalc_corr = np.array(uncalc_data['corr'])\n",
    "\n",
    "#Combine datasets to make an over-enumerated dataset\n",
    "all_comp = np.vstack([calc_comp, uncalc_comp])\n",
    "all_corr = np.vstack([calc_corr, uncalc_corr])\n"
   ]
  },
  {
   "cell_type": "code",
   "execution_count": 5,
   "metadata": {},
   "outputs": [
    {
     "name": "stdout",
     "output_type": "stream",
     "text": [
      "[  0   1  15  28  49  83 267 441]\n"
     ]
    }
   ],
   "source": [
    "#Find the observed ground state incides\n",
    "observed_hull = geom.full_hull(compositions=calc_comp, energies=calc_ef)\n",
    "observed_gs_indices, simplices = geom.lower_hull(observed_hull)\n",
    "\n",
    "#Enforce the observed ground states\n",
    "imposed_vertices = observed_gs_indices\n",
    "imposed_simplices = observed_hull.simplices[simplices]\n",
    "print(observed_gs_indices)"
   ]
  },
  {
   "cell_type": "code",
   "execution_count": 6,
   "metadata": {},
   "outputs": [],
   "source": [
    "#Make a gradient descent function to find the cone\n",
    "\n",
    "def find_cone(starting_point):\n",
    "    current_point = starting_point\n",
    "    for step in range(5000):\n",
    "        predicted_hull = geom.full_hull(all_comp, all_corr @ current_point)\n",
    "        _, predicted_simplices = geom.lower_hull(predicted_hull)\n",
    "        predicted_simplices = predicted_hull.simplices[predicted_simplices]\n",
    "        neg_grad = geom.orderparam_gradient(\n",
    "            imposed_gs_corr=calc_corr,\n",
    "            imposed_gs_comp=calc_comp,\n",
    "            imposed_gs_simplices=imposed_simplices,\n",
    "            overenum_corr=all_corr,\n",
    "            overenum_comp = all_comp,\n",
    "            predicted_simplices=predicted_simplices,\n",
    "        )\n",
    "        gradmag = np.linalg.norm(neg_grad)\n",
    "        if gradmag < 1e-9:\n",
    "            return current_point\n",
    "        current_point += 0.002 * neg_grad / gradmag\n",
    "    return np.nan"
   ]
  },
  {
   "cell_type": "code",
   "execution_count": 7,
   "metadata": {},
   "outputs": [],
   "source": [
    "#Use an initial ECI vector to initialize cone search\n",
    "init_eci = np.random.rand(calc_corr.shape[1])\n",
    "init_eci = init_eci /np.linalg.norm(init_eci)\n"
   ]
  },
  {
   "cell_type": "code",
   "execution_count": 8,
   "metadata": {},
   "outputs": [],
   "source": [
    "#Find the cone using the initial ECI vector and the gradient descent function\n",
    "final_eci = find_cone(init_eci)"
   ]
  },
  {
   "cell_type": "code",
   "execution_count": 10,
   "metadata": {},
   "outputs": [
    {
     "name": "stdout",
     "output_type": "stream",
     "text": [
      "[ 0.02545604  0.06273853  0.0344862   0.07651785 -0.01177291  0.03687073\n",
      " -0.00503199  0.03195799  0.00895255 -0.00126747 -0.01714049  0.01862584\n",
      "  0.04808763  0.03794482 -0.00375338  0.05344295  0.04604408 -0.00505729\n",
      "  0.00752162  0.03782997  0.03724461 -0.00588705  0.06191004 -0.01283004\n",
      "  0.0139661   0.03602559 -0.01580868 -0.00927631  0.04268356  0.01947948\n",
      "  0.0037219  -0.00543517  0.03589701  0.0042575  -0.029732    0.03895383\n",
      " -0.02290159  0.0447694  -0.01587112  0.00939379 -0.00084605  0.03715306\n",
      "  0.0034233  -0.0228901  -0.02719235  0.03546656 -0.0134291   0.05328454\n",
      " -0.00619664  0.00450212  0.03921618  0.04867293 -0.02093499  0.01196343\n",
      "  0.04378167  0.01894988  0.0272305   0.02167786 -0.00792943  0.0196851\n",
      "  0.02899107  0.05173841  0.0078989   0.05713925 -0.00727493 -0.02009464\n",
      " -0.03243572  0.03647961 -0.0065432  -0.04466923  0.0058666  -0.0154391\n",
      "  0.04437028  0.02361536  0.01823458  0.03274234  0.02946482 -0.00520436\n",
      "  0.02063087  0.04179702  0.01919606 -0.01181463 -0.03147091 -0.02469761\n",
      " -0.00946995 -0.02476406  0.0042477   0.00645043  0.00939619 -0.02873814\n",
      "  0.03098077 -0.02320109 -0.0268943  -0.02540966 -0.01596932  0.04408158\n",
      " -0.00734049  0.01120589 -0.02064659  0.02247707 -0.01887966  0.01837435\n",
      " -0.0351492   0.02665622 -0.02305166 -0.01437515 -0.04605541 -0.0194679\n",
      " -0.01347347 -0.02534378  0.00070068  0.04549219 -0.02345339 -0.03537835\n",
      "  0.02807277  0.00406873  0.02064398  0.02219773  0.03044163  0.05387923\n",
      "  0.01252967 -0.00493262 -0.01335416 -0.02566354  0.03647201  0.03377082\n",
      "  0.02283624  0.03813302 -0.02159058  0.02218989 -0.00772906  0.01652874\n",
      "  0.02309449  0.00072038 -0.00493295 -0.00136346 -0.01626015 -0.02815993\n",
      "  0.01373219 -0.00735184  0.05086188  0.04736794 -0.02646936  0.03514889\n",
      "  0.04625135  0.01649315  0.0056808  -0.02289895 -0.04731424  0.00711196\n",
      " -0.02824518 -0.01811992  0.00880533  0.0160077   0.00962716  0.01870283\n",
      "  0.03877461 -0.06100306 -0.02425444 -0.01469454  0.01276338  0.02476385\n",
      "  0.00695295 -0.00681721 -0.03218242 -0.01916021  0.00102283 -0.03062714\n",
      " -0.01599186  0.02431351  0.01566123  0.03769133 -0.01565174  0.03428583\n",
      " -0.03722384  0.04624956  0.02039478 -0.03183144 -0.01057406  0.01033432\n",
      " -0.02215855 -0.02105261 -0.01073576  0.0331881   0.03455633  0.04513647\n",
      "  0.03114858  0.00454016  0.00365361 -0.02758937  0.02234342  0.04260864\n",
      "  0.02961052  0.00145308  0.01740905  0.04553543 -0.01135533  0.04613477\n",
      "  0.01090581 -0.02844725 -0.00384637 -0.01364697 -0.04081753  0.00248805\n",
      "  0.02049769  0.01724443 -0.01558774  0.01401124 -0.02126342  0.04055447\n",
      " -0.00180931  0.00549661 -0.00265668 -0.03242184 -0.00821823  0.03686704\n",
      "  0.0210046  -0.02070239 -0.0377903  -0.02615386  0.0236511   0.01009058\n",
      " -0.04676451 -0.00376581  0.01956173 -0.03984133 -0.01516207 -0.03951177\n",
      " -0.0191146  -0.03214856 -0.016801   -0.01612489  0.01263904  0.01388948\n",
      "  0.03583928 -0.02089073  0.03906405  0.01753375 -0.0359688  -0.03708293\n",
      " -0.03948391  0.04561632  0.00511    -0.00836864  0.01302711 -0.00865004\n",
      "  0.01304168 -0.01803508 -0.03195911  0.03264562  0.03694325  0.02193748\n",
      "  0.03639299  0.01964017  0.02945948 -0.02681103 -0.04145387 -0.02689757\n",
      " -0.02649462  0.0056004   0.05644303 -0.04824922 -0.0392129   0.01461532\n",
      " -0.03473322 -0.03358734 -0.04296705  0.03876156  0.0038696  -0.04562489\n",
      " -0.02528854 -0.04680605 -0.02376186 -0.02219074 -0.02429219 -0.03337876\n",
      "  0.02505441 -0.04488189  0.0021895  -0.04546241 -0.03450856 -0.00907721\n",
      " -0.04389083 -0.03023159  0.02564688  0.01623566 -0.02810334 -0.04062153\n",
      "  0.01847134 -0.03800538 -0.0304542   0.01788203 -0.04272093 -0.0199739\n",
      " -0.00548252 -0.03470774 -0.04718353  0.02708135 -0.04972177 -0.00226153\n",
      "  0.01720514 -0.01316982  0.02810469 -0.039027    0.00704872 -0.03834088\n",
      " -0.02298765 -0.02365764  0.02676241 -0.01455258 -0.04746142 -0.03491585\n",
      " -0.04490804 -0.00779014 -0.04970081  0.00296941  0.01751867  0.01020495\n",
      "  0.00338618  0.02734058 -0.02019836  0.02549658 -0.03008848  0.00682836\n",
      " -0.03660043 -0.03000835  0.01923576 -0.04840433 -0.0187932   0.0158132\n",
      "  0.00383497  0.03148201 -0.00569949 -0.03808624 -0.01136899 -0.03352152\n",
      "  0.00617172 -0.02679155  0.01957277 -0.01625077  0.00783659 -0.0387396\n",
      "  0.02165819  0.03190211 -0.01985543 -0.0114138  -0.03449865 -0.03015055\n",
      "  0.0114489   0.03467433 -0.0494384   0.01253246  0.0146331  -0.05019452\n",
      "  0.0125031   0.00362068 -0.03634532  0.01174015 -0.03612344  0.0206554\n",
      "  0.03796359 -0.00951393  0.00931353 -0.03972043  0.02428935  0.03013169\n",
      " -0.01518074 -0.01986783]\n"
     ]
    }
   ],
   "source": [
    "print(final_eci)"
   ]
  },
  {
   "cell_type": "code",
   "execution_count": null,
   "metadata": {},
   "outputs": [],
   "source": []
  }
 ],
 "metadata": {
  "kernelspec": {
   "display_name": "CASM_v1_source",
   "language": "python",
   "name": "python3"
  },
  "language_info": {
   "codemirror_mode": {
    "name": "ipython",
    "version": 3
   },
   "file_extension": ".py",
   "mimetype": "text/x-python",
   "name": "python",
   "nbconvert_exporter": "python",
   "pygments_lexer": "ipython3",
   "version": "3.12.2"
  }
 },
 "nbformat": 4,
 "nbformat_minor": 2
}
